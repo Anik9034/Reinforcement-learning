{
  "nbformat": 4,
  "nbformat_minor": 0,
  "metadata": {
    "colab": {
      "name": "UCB_Prac-3.ipynb",
      "provenance": [],
      "authorship_tag": "ABX9TyPxMekJQv6WdX3ZHFwW5ou5",
      "include_colab_link": true
    },
    "kernelspec": {
      "name": "python3",
      "display_name": "Python 3"
    },
    "language_info": {
      "name": "python"
    }
  },
  "cells": [
    {
      "cell_type": "markdown",
      "metadata": {
        "id": "view-in-github",
        "colab_type": "text"
      },
      "source": [
        "<a href=\"https://colab.research.google.com/github/Anik9034/Reinforcement-learning/blob/main/UCB_Prac_3.ipynb\" target=\"_parent\"><img src=\"https://colab.research.google.com/assets/colab-badge.svg\" alt=\"Open In Colab\"/></a>"
      ]
    },
    {
      "cell_type": "code",
      "execution_count": 5,
      "metadata": {
        "id": "ZEf93ot2JKlk"
      },
      "outputs": [],
      "source": [
        "import numpy as np\n",
        "import matplotlib.pyplot as plt\n",
        "import pandas as pd"
      ]
    },
    {
      "cell_type": "markdown",
      "source": [
        "# New Section"
      ],
      "metadata": {
        "id": "5mPYEo5co04X"
      }
    },
    {
      "cell_type": "code",
      "source": [
        "dataset = pd.read_csv('/Ads_Optimisation.csv')"
      ],
      "metadata": {
        "id": "v_bIP9BNJ-9t"
      },
      "execution_count": 8,
      "outputs": []
    },
    {
      "cell_type": "code",
      "source": [
        "import random\n",
        "N= 10000\n",
        "d =10\n",
        "ads_selected =[]\n",
        "total_reward =0\n",
        "for n in range(0,N):\n",
        "  ad= random.randrange(d)\n",
        "  ads_selected.append(ad)\n",
        "  reward = dataset.values[n,ad]\n",
        "  total_reward = total_reward + reward"
      ],
      "metadata": {
        "id": "smlkdec1KYBb"
      },
      "execution_count": null,
      "outputs": []
    },
    {
      "cell_type": "code",
      "source": [
        "pd.Series(ads_selected).tail(1000).value_counts(normalize=True)"
      ],
      "metadata": {
        "colab": {
          "base_uri": "https://localhost:8080/"
        },
        "id": "rsFfvf5RNTHG",
        "outputId": "5c2c3301-252a-46fc-8b87-608ecae4645a"
      },
      "execution_count": 9,
      "outputs": [
        {
          "output_type": "execute_result",
          "data": {
            "text/plain": [
              "0    1.0\n",
              "dtype: float64"
            ]
          },
          "metadata": {},
          "execution_count": 9
        }
      ]
    },
    {
      "cell_type": "code",
      "source": [
        "pd.Series(ads_selected).tail(1000).value_counts(normalize=False)"
      ],
      "metadata": {
        "colab": {
          "base_uri": "https://localhost:8080/"
        },
        "id": "yw92ROUDOBfN",
        "outputId": "d7b259a9-6747-4f86-e086-6bf8ec891802"
      },
      "execution_count": 10,
      "outputs": [
        {
          "output_type": "execute_result",
          "data": {
            "text/plain": [
              "0    1\n",
              "dtype: int64"
            ]
          },
          "metadata": {},
          "execution_count": 10
        }
      ]
    },
    {
      "cell_type": "code",
      "source": [
        "pd.Series(ads_selected).head(1000).value_counts(normalize=False)"
      ],
      "metadata": {
        "colab": {
          "base_uri": "https://localhost:8080/"
        },
        "id": "K7c3YnbQQ8p6",
        "outputId": "f1e24d78-4d70-4290-85d6-50be5e21737e"
      },
      "execution_count": 11,
      "outputs": [
        {
          "output_type": "execute_result",
          "data": {
            "text/plain": [
              "0    1\n",
              "dtype: int64"
            ]
          },
          "metadata": {},
          "execution_count": 11
        }
      ]
    },
    {
      "cell_type": "code",
      "source": [],
      "metadata": {
        "id": "Vz3fpOAQ0kpl"
      },
      "execution_count": null,
      "outputs": []
    },
    {
      "cell_type": "markdown",
      "source": [
        "Implement UCB\n"
      ],
      "metadata": {
        "id": "RfRSCQhe0neH"
      }
    },
    {
      "cell_type": "code",
      "source": [
        "import math\n",
        "N = 10000\n",
        "d = 10\n",
        "ads_selected =[]\n",
        "numbers_of_selections =[0] * d\n",
        "sums_of_reward = [0] * d\n",
        "total_reward = 0"
      ],
      "metadata": {
        "id": "5qxnzEh4RRIy"
      },
      "execution_count": 12,
      "outputs": []
    },
    {
      "cell_type": "code",
      "source": [
        "for n in range(0,N):\n",
        "  ad=0\n",
        "  max_upper_bound = 0\n",
        "  for i in range(0,d):\n",
        "    if (numbers_of_selections[i] > 0):\n",
        "      average_reward = sums_of_reward[i] / numbers_of_selections[i]\n",
        "      delta_i = math.sqrt(2 * math.log(n+1) / numbers_of_selections[i])\n",
        "      upper_bound =average_reward + delta_i\n",
        "    else:\n",
        "       upper_bound = 1e400\n",
        "       if upper_bound > max_upper_bound:\n",
        "         max_upper_bound = upper_bound\n",
        "         ad = i\n",
        "    ads_selected.append(ad)\n",
        "    numbers_of_selections[ad] += 1\n",
        "    reward = dataset.values[n, ad]\n",
        "    sums_of_reward[ad] += reward\n",
        "    total_reward += reward"
      ],
      "metadata": {
        "id": "66l1oIJLSc3m"
      },
      "execution_count": 20,
      "outputs": []
    },
    {
      "cell_type": "code",
      "source": [
        "pd.Series(ads_selected).tail(1500).value_counts(normalize=True)"
      ],
      "metadata": {
        "colab": {
          "base_uri": "https://localhost:8080/"
        },
        "id": "WFFXQdFjUlTt",
        "outputId": "606de4f3-d602-47e2-b404-7b6f19882a02"
      },
      "execution_count": 21,
      "outputs": [
        {
          "output_type": "execute_result",
          "data": {
            "text/plain": [
              "0    1.0\n",
              "dtype: float64"
            ]
          },
          "metadata": {},
          "execution_count": 21
        }
      ]
    },
    {
      "cell_type": "code",
      "source": [
        "pd.Series(ads_selected).tail(10000).value_counts(normalize=True)"
      ],
      "metadata": {
        "colab": {
          "base_uri": "https://localhost:8080/"
        },
        "id": "6LkOAqaTWNh7",
        "outputId": "aa79973f-6fe4-4924-84a8-a40141cc07d9"
      },
      "execution_count": 22,
      "outputs": [
        {
          "output_type": "execute_result",
          "data": {
            "text/plain": [
              "0    1.0\n",
              "dtype: float64"
            ]
          },
          "metadata": {},
          "execution_count": 22
        }
      ]
    },
    {
      "cell_type": "code",
      "source": [],
      "metadata": {
        "id": "YTHn_W8XySDZ"
      },
      "execution_count": null,
      "outputs": []
    },
    {
      "cell_type": "markdown",
      "source": [
        "Reducing Value\n"
      ],
      "metadata": {
        "id": "J595E2XiyWOs"
      }
    },
    {
      "cell_type": "code",
      "source": [
        "import math\n",
        "N = 10000\n",
        "d = 10\n",
        "ads_selected =[]\n",
        "numbers_of_selections =[0] * d\n",
        "sums_of_reward = [0] * d\n",
        "total_reward = 0\n",
        "for n in range(4000):\n",
        "  ad=0\n",
        "  max_upper_bound = 0\n",
        "  for i in range(0,d):\n",
        "    if (numbers_of_selections[i] > 0):\n",
        "      average_reward = sums_of_reward[i] / numbers_of_selections[i]\n",
        "      delta_i = math.sqrt(2 * math.log(n+1) / numbers_of_selections[i])\n",
        "      upper_bound =average_reward + delta_i\n",
        "    else:\n",
        "       upper_bound = 1e400\n",
        "       if upper_bound > max_upper_bound:\n",
        "         max_upper_bound = upper_bound\n",
        "         ad = i\n",
        "    ads_selected.append(ad)\n",
        "    numbers_of_selections[ad] += 1\n",
        "    reward = dataset.values[n, ad]\n",
        "    sums_of_reward[ad] += reward\n",
        "    total_reward += reward\n",
        "print(total_reward)         "
      ],
      "metadata": {
        "colab": {
          "base_uri": "https://localhost:8080/"
        },
        "id": "G3-6LD9lyTwX",
        "outputId": "32952c54-0a98-42dd-b19e-25edbd71efea"
      },
      "execution_count": 19,
      "outputs": [
        {
          "output_type": "stream",
          "name": "stdout",
          "text": [
            "6792\n"
          ]
        }
      ]
    },
    {
      "cell_type": "code",
      "source": [
        "pd.Series(ads_selected).tail(1500).value_counts(normalize=True)"
      ],
      "metadata": {
        "colab": {
          "base_uri": "https://localhost:8080/"
        },
        "id": "KmtQfnUbzaej",
        "outputId": "37caff34-4bc1-4a23-9e96-c22af79bd063"
      },
      "execution_count": 17,
      "outputs": [
        {
          "output_type": "execute_result",
          "data": {
            "text/plain": [
              "0    0.1\n",
              "1    0.1\n",
              "2    0.1\n",
              "3    0.1\n",
              "4    0.1\n",
              "5    0.1\n",
              "6    0.1\n",
              "7    0.1\n",
              "8    0.1\n",
              "9    0.1\n",
              "dtype: float64"
            ]
          },
          "metadata": {},
          "execution_count": 17
        }
      ]
    }
  ]
}